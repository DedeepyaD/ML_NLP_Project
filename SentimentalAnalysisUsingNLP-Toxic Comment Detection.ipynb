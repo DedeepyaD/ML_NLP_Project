{
 "cells": [
  {
   "cell_type": "markdown",
   "id": "a615edce",
   "metadata": {},
   "source": [
    "# NLP Sentiment Analysis on Movie Reviews with Toxic Comment Detection"
   ]
  },
  {
   "cell_type": "code",
   "execution_count": 1,
   "id": "8e53d9a4",
   "metadata": {},
   "outputs": [],
   "source": [
    "import pandas as pd\n",
    "import numpy as np\n",
    "import nltk\n",
    "import re\n",
    "from nltk.stem.porter import PorterStemmer\n",
    "from nltk.corpus import stopwords\n",
    "from nltk.tokenize import word_tokenize\n",
    "from nltk.stem import WordNetLemmatizer\n",
    "import contractions\n",
    "import sys\n",
    "\n",
    "from sklearn.feature_extraction.text import CountVectorizer\n",
    "from sklearn.model_selection import train_test_split\n",
    "from sklearn.metrics import plot_confusion_matrix\n",
    "from sklearn.feature_extraction.text import CountVectorizer\n",
    "from sklearn.linear_model import LogisticRegression\n",
    "from sklearn.metrics import accuracy_score, f1_score, confusion_matrix\n",
    "from sklearn.model_selection import train_test_split\n",
    "from sklearn.naive_bayes import MultinomialNB\n",
    "from sklearn.ensemble import RandomForestClassifier\n",
    "from sklearn.tree import DecisionTreeClassifier\n",
    "from sklearn.feature_extraction.text import TfidfVectorizer\n"
   ]
  },
  {
   "cell_type": "code",
   "execution_count": 2,
   "id": "1c7b8cb7",
   "metadata": {},
   "outputs": [],
   "source": [
    "#Extracting Data from a text files and storing into Lists.\n",
    "training_data=[]\n",
    "test_data=[]\n",
    "\n",
    "for sentence in open('training_data.txt', encoding='utf-8'):\n",
    "    training_data.append(sentence.strip())\n",
    "\n",
    "for sentence in open('test_data.txt', encoding='utf-8'):\n",
    "    test_data.append(sentence.strip())\n",
    "    \n",
    "target = [1 if i < 12500 else 0 for i in range(25000)]  "
   ]
  },
  {
   "cell_type": "markdown",
   "id": "8fe316c0",
   "metadata": {},
   "source": [
    "# Data Cleaning and Preprocessing "
   ]
  },
  {
   "cell_type": "code",
   "execution_count": 3,
   "id": "e90c5ac2",
   "metadata": {},
   "outputs": [
    {
     "data": {
      "text/plain": [
       "[\"i went and saw this movie last night after being coaxed to by a few friends of mine i'll admit that i was reluctant to see it because from what i knew of ashton kutcher he was only able to do comedy i was wrong kutcher played the character of jake fischer very well, and kevin costner played ben randall with such professionalism the sign of a good movie is that it can toy with our emotions this one did exactly that the entire theater which was sold out was overcome by laughter during the first half of the movie, and were moved to tears during the second half while exiting the theater i not only saw many women in tears, but many full grown men as well, trying desperately not to let anyone see them crying this movie was great, and i suggest that you go see it before you judge\"]"
      ]
     },
     "execution_count": 3,
     "metadata": {},
     "output_type": "execute_result"
    }
   ],
   "source": [
    "# Removing html,xml tags, special characters, irrelevant symbols\n",
    "line = []\n",
    "str1 = \"\"\n",
    "str2 = \" \"\n",
    "first_clean = re.compile(\"(\\!)|(\\?)(\\,)|(\\\")|(\\.)|(\\;)|(\\:)|(\\()|(\\))|(\\[)|(\\])|(\\d+)\")\n",
    "second_clean = re.compile(\"(\\-)|(\\/)|(<br\\s*/><br\\s*/>)\")\n",
    "\n",
    "def data_preprocessing(data):\n",
    "    data = [first_clean.sub(str1, i.lower()) for i in data]\n",
    "    data = [second_clean.sub(str2, j) for j in data]\n",
    "    return data\n",
    "\n",
    "clean_training_data = data_preprocessing(training_data)\n",
    "clean_test_data = data_preprocessing(test_data)\n",
    "\n",
    "clean_training_data[:1]\n",
    "clean_test_data[:1]\n"
   ]
  },
  {
   "cell_type": "code",
   "execution_count": 4,
   "id": "d3732e39",
   "metadata": {
    "scrolled": true
   },
   "outputs": [
    {
     "data": {
      "text/plain": [
       "[\"bromwell high is a cartoon comedy it ran at the same time as some other programs about school life, such as teachers my years in the teaching profession lead me to believe that bromwell high's satire is much closer to reality than is teachers the scramble to survive financially, the insightful students who can see right through their pathetic teachers' pomp, the pettiness of the whole situation, all remind me of the schools i knew and their students when i saw the episode in which a student repeatedly tried to burn down the school, i immediately recalled at high a classic line inspector I am here to sack one of your teachers student welcome to bromwell high i expect that many adults of my age think that bromwell high is far fetched what a pity that it is not\"]"
      ]
     },
     "execution_count": 4,
     "metadata": {},
     "output_type": "execute_result"
    }
   ],
   "source": [
    "#Expanding Contractions to its original form\n",
    "def expand_contractions(corpus):\n",
    "    expanded_word = []    \n",
    "    for i in corpus:\n",
    "        expanded_word.append(' '.join([contractions.fix(word) for word in i.split()]))  \n",
    "    return expanded_word\n",
    "    \n",
    "final_training_data = expand_contractions(clean_training_data)    \n",
    "final_training_data[:1]"
   ]
  },
  {
   "cell_type": "code",
   "execution_count": 5,
   "id": "7869d7c0",
   "metadata": {},
   "outputs": [
    {
     "name": "stdout",
     "output_type": "stream",
     "text": [
      "['i', 'me', 'my', 'myself', 'we', 'our', 'ours', 'ourselves', 'you', \"you're\", \"you've\", \"you'll\", \"you'd\", 'your', 'yours', 'yourself', 'yourselves', 'he', 'him', 'his', 'himself', 'she', \"she's\", 'her', 'hers', 'herself', 'it', \"it's\", 'its', 'itself', 'they', 'them', 'their', 'theirs', 'themselves', 'what', 'which', 'who', 'whom', 'this', 'that', \"that'll\", 'these', 'those', 'am', 'is', 'are', 'was', 'were', 'be', 'been', 'being', 'have', 'has', 'had', 'having', 'do', 'does', 'did', 'doing', 'a', 'an', 'the', 'and', 'but', 'if', 'or', 'because', 'as', 'until', 'while', 'of', 'at', 'by', 'for', 'with', 'about', 'against', 'between', 'into', 'through', 'during', 'before', 'after', 'above', 'below', 'to', 'from', 'up', 'down', 'in', 'out', 'on', 'off', 'over', 'under', 'again', 'further', 'then', 'once', 'here', 'there', 'when', 'where', 'why', 'how', 'all', 'any', 'both', 'each', 'few', 'more', 'most', 'other', 'some', 'such', 'no', 'nor', 'not', 'only', 'own', 'same', 'so', 'than', 'too', 'very', 's', 't', 'can', 'will', 'just', 'don', \"don't\", 'should', \"should've\", 'now', 'd', 'll', 'm', 'o', 're', 've', 'y', 'ain', 'aren', \"aren't\", 'couldn', \"couldn't\", 'didn', \"didn't\", 'doesn', \"doesn't\", 'hadn', \"hadn't\", 'hasn', \"hasn't\", 'haven', \"haven't\", 'isn', \"isn't\", 'ma', 'mightn', \"mightn't\", 'mustn', \"mustn't\", 'needn', \"needn't\", 'shan', \"shan't\", 'shouldn', \"shouldn't\", 'wasn', \"wasn't\", 'weren', \"weren't\", 'won', \"won't\", 'wouldn', \"wouldn't\"]\n"
     ]
    },
    {
     "name": "stderr",
     "output_type": "stream",
     "text": [
      "[nltk_data] Downloading package stopwords to\n",
      "[nltk_data]     C:\\Users\\dedee\\AppData\\Roaming\\nltk_data...\n",
      "[nltk_data]   Package stopwords is already up-to-date!\n"
     ]
    }
   ],
   "source": [
    "#Identifying stopwords\n",
    "nltk.download('stopwords')\n",
    "all_stopwords = stopwords.words('english')\n",
    "print(all_stopwords)"
   ]
  },
  {
   "cell_type": "code",
   "execution_count": 6,
   "id": "de982a2c",
   "metadata": {},
   "outputs": [
    {
     "name": "stderr",
     "output_type": "stream",
     "text": [
      "[nltk_data] Downloading package punkt to\n",
      "[nltk_data]     C:\\Users\\dedee\\AppData\\Roaming\\nltk_data...\n",
      "[nltk_data]   Package punkt is already up-to-date!\n"
     ]
    },
    {
     "data": {
      "text/plain": [
       "[\"bromwell high cartoon comedy ran time programs school life, teachers years teaching profession lead believe bromwell high's satire much closer reality teachers scramble survive financially, insightful students see right pathetic teachers' pomp, pettiness whole situation, remind schools knew students saw episode student repeatedly tried burn school, immediately recalled high classic line inspector i'm sack one teachers student welcome bromwell high expect many adults age think bromwell high far fetched pity\"]"
      ]
     },
     "execution_count": 6,
     "metadata": {},
     "output_type": "execute_result"
    }
   ],
   "source": [
    "#Removing stopwords\n",
    "nltk.download('punkt')\n",
    "\n",
    "def stopwords(text):\n",
    "    data_without_stopwords = []\n",
    "    for i in text: \n",
    "        data_without_stopwords.append(' '.join([word for word in i.split() if not word in all_stopwords]))\n",
    "    return data_without_stopwords\n",
    "\n",
    "train_without_sw = stopwords(clean_training_data)\n",
    "train_without_sw[:1]"
   ]
  },
  {
   "cell_type": "code",
   "execution_count": 7,
   "id": "10588d27",
   "metadata": {},
   "outputs": [
    {
     "data": {
      "text/plain": [
       "[\"bromwel high is a cartoon comedi it ran at the same time as some other program about school life, such as teacher my year in the teach profess lead me to believ that bromwel high' satir is much closer to realiti than is teacher the scrambl to surviv financially, the insight student who can see right through their pathet teachers' pomp, the petti of the whole situation, all remind me of the school i knew and their student when i saw the episod in which a student repeatedli tri to burn down the school, i immedi recal at high a classic line inspector i'm here to sack one of your teacher student welcom to bromwel high i expect that mani adult of my age think that bromwel high is far fetch what a piti that it isn't\"]"
      ]
     },
     "execution_count": 7,
     "metadata": {},
     "output_type": "execute_result"
    }
   ],
   "source": [
    "# Stemming words to remove suffixes\n",
    "def stemming(corpus):\n",
    "    word_stemmer = PorterStemmer()\n",
    "    stem=[]\n",
    "    for i in corpus:\n",
    "        stem.append(' '.join([word_stemmer.stem(word) for word in i.split()]))\n",
    "    return stem\n",
    "\n",
    "stemmed_data = stemming(clean_training_data)\n",
    "stemmed_data[:1]"
   ]
  },
  {
   "cell_type": "code",
   "execution_count": 8,
   "id": "45289da6",
   "metadata": {
    "scrolled": false
   },
   "outputs": [
    {
     "name": "stderr",
     "output_type": "stream",
     "text": [
      "[nltk_data] Downloading package wordnet to\n",
      "[nltk_data]     C:\\Users\\dedee\\AppData\\Roaming\\nltk_data...\n",
      "[nltk_data]   Package wordnet is already up-to-date!\n"
     ]
    },
    {
     "data": {
      "text/plain": [
       "[\"bromwell high is a cartoon comedy it ran at the same time a some other program about school life, such a teacher my year in the teaching profession lead me to believe that bromwell high's satire is much closer to reality than is teacher the scramble to survive financially, the insightful student who can see right through their pathetic teachers' pomp, the pettiness of the whole situation, all remind me of the school i knew and their student when i saw the episode in which a student repeatedly tried to burn down the school, i immediately recalled at high a classic line inspector i'm here to sack one of your teacher student welcome to bromwell high i expect that many adult of my age think that bromwell high is far fetched what a pity that it isn't\"]"
      ]
     },
     "execution_count": 8,
     "metadata": {},
     "output_type": "execute_result"
    }
   ],
   "source": [
    "#Lemmitization to bring context to the data\n",
    "nltk.download('wordnet')\n",
    "def lemmitization(corpus):\n",
    "    lemmatizer = WordNetLemmatizer()\n",
    "    lem = []\n",
    "    for i in corpus:\n",
    "        lem.append(' '.join([lemmatizer.lemmatize(word) for word in i.split()]))\n",
    "    return lem\n",
    "\n",
    "lemmitized_data = lemmitization(clean_training_data)\n",
    "lemmitized_data[:1]"
   ]
  },
  {
   "cell_type": "markdown",
   "id": "798883c2",
   "metadata": {},
   "source": [
    "# Feature Extraction --> Bag of Words Model"
   ]
  },
  {
   "cell_type": "code",
   "execution_count": 9,
   "id": "77301245",
   "metadata": {},
   "outputs": [
    {
     "name": "stdout",
     "output_type": "stream",
     "text": [
      "(25000, 1000) (25000, 1000)\n"
     ]
    }
   ],
   "source": [
    "# Initializing a bag of words  \n",
    "Vectorizer = CountVectorizer(analyzer = \"word\",tokenizer = None,preprocessor = None,stop_words = None,max_features = 1000) \n",
    "\n",
    "# Transform and fit the data\n",
    "X_train_bwm = Vectorizer.fit_transform(clean_training_data).toarray()\n",
    "y_test_bwm = Vectorizer.transform(clean_test_data).toarray()\n",
    "print(X_train_bwm.shape, y_test_bwm.shape)"
   ]
  },
  {
   "cell_type": "code",
   "execution_count": 10,
   "id": "e7c0d929",
   "metadata": {
    "scrolled": true
   },
   "outputs": [],
   "source": [
    "#Split the data into train and test data\n",
    "X_train, X_test, y_train, y_val = train_test_split(X_train_bwm, target,test_size = 0.30)"
   ]
  },
  {
   "cell_type": "code",
   "execution_count": 11,
   "id": "a39cbc1e",
   "metadata": {},
   "outputs": [
    {
     "name": "stdout",
     "output_type": "stream",
     "text": [
      "Accuracy Score For Naive Bayes: 0.80772\n",
      "F1 score For Naive Bayes: 0.8076690249060906\n",
      "\n",
      "Confusion Matrix For Decision Tree Classifier:\n",
      " [[10300  2200]\n",
      " [ 2607  9893]]\n"
     ]
    }
   ],
   "source": [
    "#Naive Bayes Classifier\n",
    "naive_bayes = MultinomialNB()\n",
    "naive_bayes.fit(X_train_bwm, target)                              \n",
    "print (\"Accuracy Score For Naive Bayes: %s\"% accuracy_score(target, naive_bayes.predict(y_test_bwm)))\n",
    "print (\"F1 score For Naive Bayes:\",f1_score(target, naive_bayes.predict(y_test_bwm),average='weighted'))\n",
    "print (\"\\nConfusion Matrix For Decision Tree Classifier:\\n\",confusion_matrix(target,naive_bayes.predict(y_test_bwm)))\n"
   ]
  },
  {
   "cell_type": "code",
   "execution_count": 12,
   "id": "d69db3cd",
   "metadata": {},
   "outputs": [
    {
     "name": "stdout",
     "output_type": "stream",
     "text": [
      "Accuracy Score For Decision Tree Classifier: 0.69696\n",
      "F1 score For Decision Tree Classifier: 0.6969567397393888\n",
      "\n",
      "Confusion Matrix For Decision Tree Classifier:\n",
      " [[8671 3829]\n",
      " [3747 8753]]\n"
     ]
    }
   ],
   "source": [
    "#Decision Tree classifier\n",
    "decision_tree = DecisionTreeClassifier(criterion = \"entropy\")\n",
    "decision_tree.fit(X_train_bwm, target)\n",
    "\n",
    "print (\"Accuracy Score For Decision Tree Classifier: %s\"% accuracy_score(target, decision_tree.predict(y_test_bwm)))\n",
    "print (\"F1 score For Decision Tree Classifier:\", f1_score(target, decision_tree.predict(y_test_bwm),average='weighted'))\n",
    "print (\"\\nConfusion Matrix For Decision Tree Classifier:\\n\",confusion_matrix(target,decision_tree.predict(y_test_bwm)))\n"
   ]
  },
  {
   "cell_type": "code",
   "execution_count": 13,
   "id": "51d2785c",
   "metadata": {},
   "outputs": [
    {
     "name": "stdout",
     "output_type": "stream",
     "text": [
      "Accuracy Score For Random Forest Classifier: 0.83624\n",
      "F1 score For Random Forest Classifier: 0.8362188641099257\n",
      "\n",
      "Confusion Matrix For Random Forest Classifier:\n",
      " [[10311  2189]\n",
      " [ 1905 10595]]\n"
     ]
    }
   ],
   "source": [
    "#Random Forest Classifier\n",
    "random_forest = RandomForestClassifier(n_estimators = 500)\n",
    "random_forest.fit(X_train_bwm, target)\n",
    "\n",
    "print (\"Accuracy Score For Random Forest Classifier: %s\"% accuracy_score(target, random_forest.predict(y_test_bwm)))\n",
    "print (\"F1 score For Random Forest Classifier:\", f1_score(target, random_forest.predict(y_test_bwm),average='weighted'))\n",
    "print (\"\\nConfusion Matrix For Random Forest Classifier:\\n\",confusion_matrix(target,random_forest.predict(y_test_bwm)))\n"
   ]
  },
  {
   "cell_type": "code",
   "execution_count": 14,
   "id": "8c8efcea",
   "metadata": {},
   "outputs": [
    {
     "name": "stderr",
     "output_type": "stream",
     "text": [
      "E:\\anaconda3\\lib\\site-packages\\sklearn\\linear_model\\_logistic.py:763: ConvergenceWarning: lbfgs failed to converge (status=1):\n",
      "STOP: TOTAL NO. of ITERATIONS REACHED LIMIT.\n",
      "\n",
      "Increase the number of iterations (max_iter) or scale the data as shown in:\n",
      "    https://scikit-learn.org/stable/modules/preprocessing.html\n",
      "Please also refer to the documentation for alternative solver options:\n",
      "    https://scikit-learn.org/stable/modules/linear_model.html#logistic-regression\n",
      "  n_iter_i = _check_optimize_result(\n"
     ]
    },
    {
     "name": "stdout",
     "output_type": "stream",
     "text": [
      "Accuracy Score For Logistic Regression Classifier: 0.86164\n",
      "F1 score For Logistic Regression Classifier: 0.8616249180016626\n",
      "\n",
      "Confusion Matrix For Logistic Regression Classifier:\n",
      " [[10640  1860]\n",
      " [ 1599 10901]]\n"
     ]
    }
   ],
   "source": [
    "#Logistic Regression Classifier\n",
    "logistic_reg = LogisticRegression()\n",
    "logistic_reg.fit(X_train_bwm, target)\n",
    "print (\"Accuracy Score For Logistic Regression Classifier: %s\"% accuracy_score(target, logistic_reg.predict(y_test_bwm)))\n",
    "print (\"F1 score For Logistic Regression Classifier:\", f1_score(target, logistic_reg.predict(y_test_bwm),average='weighted'))\n",
    "print (\"\\nConfusion Matrix For Logistic Regression Classifier:\\n\",confusion_matrix(target,logistic_reg.predict(y_test_bwm)))\n"
   ]
  },
  {
   "cell_type": "code",
   "execution_count": 15,
   "id": "4f050775",
   "metadata": {},
   "outputs": [
    {
     "name": "stderr",
     "output_type": "stream",
     "text": [
      "E:\\anaconda3\\lib\\site-packages\\sklearn\\svm\\_base.py:985: ConvergenceWarning: Liblinear failed to converge, increase the number of iterations.\n",
      "  warnings.warn(\"Liblinear failed to converge, increase \"\n"
     ]
    },
    {
     "name": "stdout",
     "output_type": "stream",
     "text": [
      "Accuracy for Linear Support Vector Machine: 0.85904\n",
      "F1 score for Linear Support Vector Machine: 0.8589666852416561\n",
      "\n",
      "Confusion Matrix for Linear Support Vector Machine:\n",
      " [[10453  2047]\n",
      " [ 1477 11023]]\n"
     ]
    }
   ],
   "source": [
    "#Linear Support Vector Machine\n",
    "from sklearn.svm import LinearSVC\n",
    "support = LinearSVC()\n",
    "support.fit(X_train_bwm, target)\n",
    "\n",
    "print (\"Accuracy for Linear Support Vector Machine: %s\"% accuracy_score(target, support.predict(y_test_bwm)))\n",
    "print (\"F1 score for Linear Support Vector Machine:\", f1_score(target, support.predict(y_test_bwm),average='weighted'))\n",
    "print (\"\\nConfusion Matrix for Linear Support Vector Machine:\\n\",confusion_matrix(target,support.predict(y_test_bwm)))"
   ]
  },
  {
   "cell_type": "markdown",
   "id": "b3b47914",
   "metadata": {},
   "source": [
    "Accuracy Score Comparision"
   ]
  },
  {
   "cell_type": "code",
   "execution_count": 16,
   "id": "2939af65",
   "metadata": {},
   "outputs": [
    {
     "data": {
      "image/png": "[encoded data removed]",
      "text/plain": [
       "<Figure size 432x288 with 1 Axes>"
      ]
     },
     "metadata": {},
     "output_type": "display_data"
    }
   ],
   "source": [
    "import matplotlib.pyplot as plt\n",
    "\n",
    "x1 = accuracy_score(target, naive_bayes.predict(y_test_bwm))\n",
    "x2 = accuracy_score(target, decision_tree.predict(y_test_bwm))\n",
    "x3 = accuracy_score(target, random_forest.predict(y_test_bwm))\n",
    "x4 = accuracy_score(target, logistic_reg.predict(y_test_bwm))\n",
    "x5 = accuracy_score(target, support.predict(y_test_bwm))\n",
    "plt.style.use('ggplot')\n",
    "\n",
    "classifiers_name =  ['Naive Bayes','Decision Tree','Random Forest','Logistic Regression', 'Linear Support Vector Machine']\n",
    "model = [x1,x2,x3,x4,x5]\n",
    "x_position = [i for i, _ in enumerate(classifiers_name)]\n",
    "plt.bar(classifiers_name, model, color='blue')\n",
    "plt.xlabel(\"Models\")\n",
    "plt.ylabel(\"Accuracy Score\")\n",
    "plt.title(\"Accuracy Scores across different models for Bag of Words\")\n",
    "plt.xticks(x_position, classifiers_name, rotation = 90)\n",
    "\n",
    "plt.show()"
   ]
  },
  {
   "cell_type": "code",
   "execution_count": 17,
   "id": "17d6c02d",
   "metadata": {},
   "outputs": [
    {
     "data": {
      "image/png": "[encoded data removed]",
      "text/plain": [
       "<Figure size 432x288 with 1 Axes>"
      ]
     },
     "metadata": {},
     "output_type": "display_data"
    }
   ],
   "source": [
    "import matplotlib.pyplot as plt\n",
    "\n",
    "x1 = f1_score(target, naive_bayes.predict(y_test_bwm), average='weighted')\n",
    "x2 = f1_score(target, decision_tree.predict(y_test_bwm), average='weighted')\n",
    "x3 = f1_score(target, random_forest.predict(y_test_bwm), average='weighted')\n",
    "x4 = f1_score(target, logistic_reg.predict(y_test_bwm), average='weighted')\n",
    "x5 = f1_score(target, support.predict(y_test_bwm), average='weighted')\n",
    "\n",
    "plt.style.use('ggplot')\n",
    "\n",
    "classifiers_name =  ['Naive Bayes','Decision Tree','Random Forest','Logistic Regression', 'Linear Support Vector Machine']\n",
    "model = [x1,x2,x3,x4,x5]\n",
    "x_position = [i for i, _ in enumerate(classifiers_name)]\n",
    "plt.bar(classifiers_name, model, color='blue')\n",
    "plt.xlabel(\"Models\")\n",
    "plt.ylabel(\"F1 Score\")\n",
    "plt.title(\"F1 Scores across different models for Bag of Words\")\n",
    "plt.xticks(x_position, classifiers_name, rotation = 90)\n",
    "\n",
    "plt.show()"
   ]
  },
  {
   "cell_type": "markdown",
   "id": "3985b2cb",
   "metadata": {},
   "source": [
    "# Feature Extraction -->N-Gram"
   ]
  },
  {
   "cell_type": "code",
   "execution_count": 18,
   "id": "3200599a",
   "metadata": {},
   "outputs": [],
   "source": [
    "stop_words = ['at','in', 'of', 'a', 'the','and']\n",
    "ngram_vectorizer = CountVectorizer(binary=True, ngram_range=(1, 2), stop_words = stop_words)\n",
    "ngram_vectorizer.fit(clean_training_data)\n",
    "X_train_bwm = ngram_vectorizer.transform(clean_training_data)\n",
    "y_test_bwm = ngram_vectorizer.transform(clean_test_data)\n",
    "\n",
    "X_train, X_test, y_train, y_test = train_test_split(X_train_bwm, target, train_size = 0.80)\n",
    "\n",
    "    "
   ]
  },
  {
   "cell_type": "code",
   "execution_count": 19,
   "id": "99a518a2",
   "metadata": {},
   "outputs": [
    {
     "name": "stdout",
     "output_type": "stream",
     "text": [
      "Accuracy Score For Naive Bayes: 0.86652\n",
      "F1 score For Naive Bayes: 0.8661552945929186\n",
      "\n",
      "Confusion Matrix For Naive Bayes:\n",
      " [[11484  1016]\n",
      " [ 2321 10179]]\n"
     ]
    }
   ],
   "source": [
    "#Naive Bayes Classifier\n",
    "naive_bayes = MultinomialNB()\n",
    "naive_bayes.fit(X_train_bwm, target)\n",
    "\n",
    "print (\"Accuracy Score For Naive Bayes: %s\"% accuracy_score(target, naive_bayes.predict(y_test_bwm)))\n",
    "print (\"F1 score For Naive Bayes:\", f1_score(target, naive_bayes.predict(y_test_bwm),average='weighted'))\n",
    "print (\"\\nConfusion Matrix For Naive Bayes:\\n\",confusion_matrix(target,naive_bayes.predict(y_test_bwm)))\n"
   ]
  },
  {
   "cell_type": "code",
   "execution_count": 20,
   "id": "51268788",
   "metadata": {},
   "outputs": [
    {
     "name": "stdout",
     "output_type": "stream",
     "text": [
      "Accuracy Score For Decision Tree Classifier: 0.71616\n",
      "F1 score For Decision Tree Classifier: 0.7161585757972698\n",
      "\n",
      "Confusion Matrix For Decision Tree Classifier:\n",
      " [[8924 3576]\n",
      " [3520 8980]]\n"
     ]
    }
   ],
   "source": [
    "#Decision Tree classifier\n",
    "decision_tree = DecisionTreeClassifier(criterion = \"entropy\")\n",
    "decision_tree.fit(X_train_bwm, target)\n",
    "\n",
    "print (\"Accuracy Score For Decision Tree Classifier: %s\"% accuracy_score(target, decision_tree.predict(y_test_bwm)))\n",
    "print (\"F1 score For Decision Tree Classifier:\", f1_score(target, decision_tree.predict(y_test_bwm),average='weighted'))\n",
    "print (\"\\nConfusion Matrix For Decision Tree Classifier:\\n\",confusion_matrix(target,decision_tree.predict(y_test_bwm)))\n"
   ]
  },
  {
   "cell_type": "code",
   "execution_count": 21,
   "id": "626d0053",
   "metadata": {},
   "outputs": [
    {
     "name": "stdout",
     "output_type": "stream",
     "text": [
      "Accuracy Score For Random Forest Classifier: 0.8164\n",
      "F1 score For Random Forest Classifier: 0.8162840726043039\n",
      "\n",
      "Confusion Matrix For Random Forest Classifier:\n",
      " [[10519  1981]\n",
      " [ 2609  9891]]\n"
     ]
    }
   ],
   "source": [
    "#Random Forest Classifier\n",
    "random_forest = RandomForestClassifier(n_estimators = 30)\n",
    "random_forest.fit(X_train_bwm, target)\n",
    "\n",
    "print (\"Accuracy Score For Random Forest Classifier: %s\"% accuracy_score(target, random_forest.predict(y_test_bwm)))\n",
    "print (\"F1 score For Random Forest Classifier:\", f1_score(target, random_forest.predict(y_test_bwm),average='weighted'))\n",
    "print (\"\\nConfusion Matrix For Random Forest Classifier:\\n\",confusion_matrix(target,random_forest.predict(y_test_bwm)))\n"
   ]
  },
  {
   "cell_type": "code",
   "execution_count": 22,
   "id": "4735a6f8",
   "metadata": {
    "scrolled": true
   },
   "outputs": [
    {
     "name": "stderr",
     "output_type": "stream",
     "text": [
      "E:\\anaconda3\\lib\\site-packages\\sklearn\\linear_model\\_logistic.py:763: ConvergenceWarning: lbfgs failed to converge (status=1):\n",
      "STOP: TOTAL NO. of ITERATIONS REACHED LIMIT.\n",
      "\n",
      "Increase the number of iterations (max_iter) or scale the data as shown in:\n",
      "    https://scikit-learn.org/stable/modules/preprocessing.html\n",
      "Please also refer to the documentation for alternative solver options:\n",
      "    https://scikit-learn.org/stable/modules/linear_model.html#logistic-regression\n",
      "  n_iter_i = _check_optimize_result(\n"
     ]
    },
    {
     "name": "stdout",
     "output_type": "stream",
     "text": [
      "Accuracy Score For Logistic Regression Classifier: 0.8992\n",
      "F1 score For Logistic Regression Classifier: 0.8991991639175452\n",
      "\n",
      "Confusion Matrix For Logistic Regression Classifier:\n",
      " [[11204  1296]\n",
      " [ 1224 11276]]\n"
     ]
    }
   ],
   "source": [
    "#Logistic Regression Classifier\n",
    "\n",
    "logistic_reg = LogisticRegression()\n",
    "logistic_reg.fit(X_train_bwm, target)\n",
    "\n",
    "print (\"Accuracy Score For Logistic Regression Classifier: %s\"% accuracy_score(target, logistic_reg.predict(y_test_bwm)))\n",
    "print (\"F1 score For Logistic Regression Classifier:\", f1_score(target, logistic_reg.predict(y_test_bwm),average='weighted'))\n",
    "print (\"\\nConfusion Matrix For Logistic Regression Classifier:\\n\",confusion_matrix(target,logistic_reg.predict(y_test_bwm)))\n"
   ]
  },
  {
   "cell_type": "code",
   "execution_count": 23,
   "id": "2e8916a5",
   "metadata": {},
   "outputs": [
    {
     "name": "stderr",
     "output_type": "stream",
     "text": [
      "E:\\anaconda3\\lib\\site-packages\\sklearn\\svm\\_base.py:985: ConvergenceWarning: Liblinear failed to converge, increase the number of iterations.\n",
      "  warnings.warn(\"Liblinear failed to converge, increase \"\n"
     ]
    },
    {
     "name": "stdout",
     "output_type": "stream",
     "text": [
      "Accuracy for Linear Support Vector Machine: 0.8942\n",
      "F1 score for Linear Support Vector Machine: 0.8941997926315935\n",
      "\n",
      "Confusion Matrix for Linear Support Vector Machine:\n",
      " [[11160  1340]\n",
      " [ 1305 11195]]\n"
     ]
    }
   ],
   "source": [
    "#Linear Support Vector Machine\n",
    "support = LinearSVC()\n",
    "support.fit(X_train_bwm, target)\n",
    "\n",
    "print (\"Accuracy for Linear Support Vector Machine: %s\"% accuracy_score(target, support.predict(y_test_bwm)))\n",
    "print (\"F1 score for Linear Support Vector Machine:\", f1_score(target, support.predict(y_test_bwm),average='weighted'))\n",
    "print (\"\\nConfusion Matrix for Linear Support Vector Machine:\\n\",confusion_matrix(target,support.predict(y_test_bwm)))"
   ]
  },
  {
   "cell_type": "code",
   "execution_count": 24,
   "id": "b3fa9f0a",
   "metadata": {},
   "outputs": [
    {
     "data": {
      "image/png": "[encoded data removed]",
      "text/plain": [
       "<Figure size 432x288 with 1 Axes>"
      ]
     },
     "metadata": {},
     "output_type": "display_data"
    }
   ],
   "source": [
    "import matplotlib.pyplot as plt\n",
    "\n",
    "p1 = accuracy_score(target, naive_bayes.predict(y_test_bwm))\n",
    "p2 = accuracy_score(target, decision_tree.predict(y_test_bwm))\n",
    "p3 = accuracy_score(target, random_forest.predict(y_test_bwm))\n",
    "p4 = accuracy_score(target, logistic_reg.predict(y_test_bwm))\n",
    "p5 = accuracy_score(target, support.predict(y_test_bwm))\n",
    "plt.style.use('ggplot')\n",
    "\n",
    "classifiers_name =  ['Naive Bayes','Decision Tree','Random Forest','Logistic Regression', 'Linear Support Vector Machine']\n",
    "model = [p1,p2,p3,x4,x5]\n",
    "x_position = [i for i, _ in enumerate(classifiers_name)]\n",
    "plt.bar(classifiers_name, model, color='blue')\n",
    "plt.xlabel(\"Models\")\n",
    "plt.ylabel(\"Accuracy Score\")\n",
    "plt.title(\"Accuracy Scores across different models for N gram\")\n",
    "plt.xticks(x_position, classifiers_name, rotation = 90)\n",
    "\n",
    "plt.show()"
   ]
  },
  {
   "cell_type": "code",
   "execution_count": 25,
   "id": "db731788",
   "metadata": {},
   "outputs": [
    {
     "data": {
      "image/png": "[encoded data removed]",
      "text/plain": [
       "<Figure size 432x288 with 1 Axes>"
      ]
     },
     "metadata": {},
     "output_type": "display_data"
    }
   ],
   "source": [
    "import matplotlib.pyplot as plt\n",
    "\n",
    "p1 = f1_score(target, naive_bayes.predict(y_test_bwm), average='weighted')\n",
    "p2 = f1_score(target, decision_tree.predict(y_test_bwm), average='weighted')\n",
    "p3 = f1_score(target, random_forest.predict(y_test_bwm), average='weighted')\n",
    "p4 = f1_score(target, logistic_reg.predict(y_test_bwm), average='weighted')\n",
    "p5 = f1_score(target, support.predict(y_test_bwm), average='weighted')\n",
    "\n",
    "plt.style.use('ggplot')\n",
    "\n",
    "classifiers_name =  ['Naive Bayes','Decision Tree','Random Forest','Logistic Regression', 'Linear Support Vector Machine']\n",
    "model = [p1,p2,p3,p4,p5]\n",
    "x_position = [i for i, _ in enumerate(classifiers_name)]\n",
    "plt.bar(classifiers_name, model, color='blue')\n",
    "plt.xlabel(\"Models\")\n",
    "plt.ylabel(\"F1 Score\")\n",
    "plt.title(\"F1 Scores across different models for N gram\")\n",
    "plt.xticks(x_position, classifiers_name, rotation = 90)\n",
    "\n",
    "plt.show()"
   ]
  },
  {
   "cell_type": "markdown",
   "id": "368f3bef",
   "metadata": {},
   "source": [
    "# Feature Extraction --> TD-IDF"
   ]
  },
  {
   "cell_type": "code",
   "execution_count": 26,
   "id": "89604468",
   "metadata": {},
   "outputs": [],
   "source": [
    "from sklearn.feature_extraction.text import TfidfVectorizer\n",
    "\n",
    "tfidf_vectorizer = TfidfVectorizer()\n",
    "tfidf_vectorizer.fit(clean_training_data)\n",
    "X_train_bwm = tfidf_vectorizer.transform(clean_training_data)\n",
    "y_test_bwm = tfidf_vectorizer.transform(clean_test_data)\n",
    "\n",
    "X_train, X_test, y_train, y_test = train_test_split(X_train_bwm, target, train_size = 0.75)"
   ]
  },
  {
   "cell_type": "code",
   "execution_count": 27,
   "id": "13d9e756",
   "metadata": {},
   "outputs": [
    {
     "name": "stdout",
     "output_type": "stream",
     "text": [
      "Accuracy Score For Naive Bayes: 0.83068\n",
      "F1 score For Naive Bayes: 0.8300788409611027\n",
      "\n",
      "Confusion Matrix For Naive Bayes:\n",
      " [[11127  1373]\n",
      " [ 2860  9640]]\n"
     ]
    }
   ],
   "source": [
    "#Naive Bayes Classifier\n",
    "naive_bayes = MultinomialNB()\n",
    "naive_bayes.fit(X_train_bwm, target)\n",
    "\n",
    "print (\"Accuracy Score For Naive Bayes: %s\"% accuracy_score(target, naive_bayes.predict(y_test_bwm)))\n",
    "print (\"F1 score For Naive Bayes:\", f1_score(target, naive_bayes.predict(y_test_bwm),average='weighted'))\n",
    "print (\"\\nConfusion Matrix For Naive Bayes:\\n\",confusion_matrix(target,naive_bayes.predict(y_test_bwm)))\n"
   ]
  },
  {
   "cell_type": "code",
   "execution_count": 28,
   "id": "81411cb2",
   "metadata": {},
   "outputs": [
    {
     "name": "stdout",
     "output_type": "stream",
     "text": [
      "Accuracy Score For Decision Tree Classifier: 0.70288\n",
      "F1 score For Decision Tree Classifier: 0.7028738216770984\n",
      "\n",
      "Confusion Matrix For Decision Tree Classifier:\n",
      " [[8729 3771]\n",
      " [3657 8843]]\n"
     ]
    }
   ],
   "source": [
    "#Decision Tree classifier\n",
    "decision_tree = DecisionTreeClassifier(criterion = \"entropy\")\n",
    "decision_tree.fit(X_train_bwm, target)\n",
    "\n",
    "print (\"Accuracy Score For Decision Tree Classifier: %s\"% accuracy_score(target, decision_tree.predict(y_test_bwm)))\n",
    "print (\"F1 score For Decision Tree Classifier:\", f1_score(target, decision_tree.predict(y_test_bwm),average='weighted'))\n",
    "print (\"\\nConfusion Matrix For Decision Tree Classifier:\\n\",confusion_matrix(target,decision_tree.predict(y_test_bwm)))\n"
   ]
  },
  {
   "cell_type": "code",
   "execution_count": 29,
   "id": "078c461b",
   "metadata": {},
   "outputs": [
    {
     "name": "stdout",
     "output_type": "stream",
     "text": [
      "Accuracy Score For Random Forest Classifier: 0.79904\n",
      "F1 score For Random Forest Classifier: 0.7987940858097472\n",
      "\n",
      "Confusion Matrix For Random Forest Classifier:\n",
      " [[10425  2075]\n",
      " [ 2949  9551]]\n"
     ]
    }
   ],
   "source": [
    "#Random Forest Classifier\n",
    "random_forest = RandomForestClassifier(n_estimators = 30)\n",
    "random_forest.fit(X_train_bwm, target)\n",
    "\n",
    "print (\"Accuracy Score For Random Forest Classifier: %s\"% accuracy_score(target, random_forest.predict(y_test_bwm)))\n",
    "print (\"F1 score For Random Forest Classifier:\", f1_score(target, random_forest.predict(y_test_bwm),average='weighted'))\n",
    "print (\"\\nConfusion Matrix For Random Forest Classifier:\\n\",confusion_matrix(target,random_forest.predict(y_test_bwm)))"
   ]
  },
  {
   "cell_type": "code",
   "execution_count": 30,
   "id": "32c95fa8",
   "metadata": {},
   "outputs": [
    {
     "name": "stdout",
     "output_type": "stream",
     "text": [
      "Accuracy Score For Logistic Regression Classifier: 0.88256\n",
      "F1 score For Logistic Regression Classifier: 0.8825595670675879\n",
      "\n",
      "Confusion Matrix For Logistic Regression Classifier:\n",
      " [[11056  1444]\n",
      " [ 1492 11008]]\n"
     ]
    },
    {
     "name": "stderr",
     "output_type": "stream",
     "text": [
      "E:\\anaconda3\\lib\\site-packages\\sklearn\\linear_model\\_logistic.py:763: ConvergenceWarning: lbfgs failed to converge (status=1):\n",
      "STOP: TOTAL NO. of ITERATIONS REACHED LIMIT.\n",
      "\n",
      "Increase the number of iterations (max_iter) or scale the data as shown in:\n",
      "    https://scikit-learn.org/stable/modules/preprocessing.html\n",
      "Please also refer to the documentation for alternative solver options:\n",
      "    https://scikit-learn.org/stable/modules/linear_model.html#logistic-regression\n",
      "  n_iter_i = _check_optimize_result(\n"
     ]
    }
   ],
   "source": [
    "#Logistic Regression Classifier\n",
    "logistic_reg = LogisticRegression()\n",
    "logistic_reg.fit(X_train_bwm, target)\n",
    "\n",
    "print (\"Accuracy Score For Logistic Regression Classifier: %s\"% accuracy_score(target, logistic_reg.predict(y_test_bwm)))\n",
    "print (\"F1 score For Logistic Regression Classifier:\", f1_score(target, logistic_reg.predict(y_test_bwm),average='weighted'))\n",
    "print (\"\\nConfusion Matrix For Logistic Regression Classifier:\\n\",confusion_matrix(target,logistic_reg.predict(y_test_bwm)))\n"
   ]
  },
  {
   "cell_type": "code",
   "execution_count": 31,
   "id": "4f50829c",
   "metadata": {},
   "outputs": [
    {
     "name": "stdout",
     "output_type": "stream",
     "text": [
      "Accuracy for Linear Support Vector Machine: 0.87732\n",
      "F1 score for Linear Support Vector Machine: 0.8773047188425911\n",
      "\n",
      "Confusion Matrix for Linear Support Vector Machine:\n",
      " [[11106  1394]\n",
      " [ 1673 10827]]\n"
     ]
    }
   ],
   "source": [
    "#Linear Support Vector Machine\n",
    "support = LinearSVC()\n",
    "support.fit(X_train_bwm, target)\n",
    "\n",
    "print (\"Accuracy for Linear Support Vector Machine: %s\"% accuracy_score(target, support.predict(y_test_bwm)))\n",
    "print (\"F1 score for Linear Support Vector Machine:\", f1_score(target, support.predict(y_test_bwm),average='weighted'))\n",
    "print (\"\\nConfusion Matrix for Linear Support Vector Machine:\\n\",confusion_matrix(target,support.predict(y_test_bwm)))"
   ]
  },
  {
   "cell_type": "code",
   "execution_count": 32,
   "id": "5170ba7b",
   "metadata": {},
   "outputs": [
    {
     "data": {
      "image/png": "[encoded data removed]",
      "text/plain": [
       "<Figure size 432x288 with 1 Axes>"
      ]
     },
     "metadata": {},
     "output_type": "display_data"
    }
   ],
   "source": [
    "import matplotlib.pyplot as plt\n",
    "\n",
    "t1 = accuracy_score(target, naive_bayes.predict(y_test_bwm))\n",
    "t2 = accuracy_score(target, decision_tree.predict(y_test_bwm))\n",
    "t3 = accuracy_score(target, random_forest.predict(y_test_bwm))\n",
    "t4 = accuracy_score(target, logistic_reg.predict(y_test_bwm))\n",
    "t5 = accuracy_score(target, support.predict(y_test_bwm))\n",
    "plt.style.use('ggplot')\n",
    "\n",
    "classifiers_name =  ['Naive Bayes','Decision Tree','Random Forest','Logistic Regression', 'Linear Support Vector Machine']\n",
    "model = [t1,t2,t3,t4,t5]\n",
    "x_position = [i for i, _ in enumerate(classifiers_name)]\n",
    "plt.bar(classifiers_name, model, color='blue')\n",
    "plt.xlabel(\"Models\")\n",
    "plt.ylabel(\"Accuracy Score\")\n",
    "plt.title(\"Accuracy Scores across different models for TD-IDF\")\n",
    "plt.xticks(x_position, classifiers_name, rotation = 90)\n",
    "\n",
    "plt.show()"
   ]
  },
  {
   "cell_type": "code",
   "execution_count": 33,
   "id": "45f37c79",
   "metadata": {},
   "outputs": [
    {
     "data": {
      "image/png": "[encoded data removed]",
      "text/plain": [
       "<Figure size 432x288 with 1 Axes>"
      ]
     },
     "metadata": {},
     "output_type": "display_data"
    }
   ],
   "source": [
    "import matplotlib.pyplot as plt\n",
    "\n",
    "t1 = f1_score(target, naive_bayes.predict(y_test_bwm), average='weighted')\n",
    "t2 = f1_score(target, decision_tree.predict(y_test_bwm), average='weighted')\n",
    "t3 = f1_score(target, random_forest.predict(y_test_bwm), average='weighted')\n",
    "t4 = f1_score(target, logistic_reg.predict(y_test_bwm), average='weighted')\n",
    "t5 = f1_score(target, support.predict(y_test_bwm), average='weighted')\n",
    "\n",
    "plt.style.use('ggplot')\n",
    "\n",
    "classifiers_name =  ['Naive Bayes','Decision Tree','Random Forest','Logistic Regression', 'Linear Support Vector Machine']\n",
    "model = [t1,t2,t3,t4,t5]\n",
    "x_position = [i for i, _ in enumerate(classifiers_name)]\n",
    "plt.bar(classifiers_name, model, color='blue')\n",
    "plt.xlabel(\"Models\")\n",
    "plt.ylabel(\"F1 Score\")\n",
    "plt.title(\"F1 Scores across different models for TD-IDF\")\n",
    "plt.xticks(x_position, classifiers_name, rotation = 90)\n",
    "\n",
    "plt.show()"
   ]
  },
  {
   "cell_type": "markdown",
   "id": "8f416b89",
   "metadata": {},
   "source": [
    "# Toxic Comment Detection"
   ]
  },
  {
   "cell_type": "code",
   "execution_count": 34,
   "id": "7ae04c40",
   "metadata": {},
   "outputs": [],
   "source": [
    "replace_without_space = re.compile(\"(\\.)|(\\;)|(\\:)|(\\!)|(\\')|(\\?)|(\\,)|(\\\")|(\\()|(\\))|(\\[)|(\\])\")\n",
    "replace_with_space = re.compile(\"(<br\\s*/><br\\s*/>)|(\\-)|(\\/)\")"
   ]
  },
  {
   "cell_type": "code",
   "execution_count": 35,
   "id": "266a9227",
   "metadata": {},
   "outputs": [],
   "source": [
    "# Extracting Data from text files and storing into lists\n",
    "def load_data():\n",
    "    reviews_train = []\n",
    "    reviews_test = []\n",
    "    \n",
    "    for line in open('training_data.txt', 'r', encoding = \"utf8\"):\n",
    "        reviews_train.append(line.strip())\n",
    "\n",
    "    for line in open('test_data.txt', 'r', encoding = \"utf8\"):\n",
    "        reviews_test.append(line.strip())\n",
    "\n",
    "    return(reviews_train,reviews_test)"
   ]
  },
  {
   "cell_type": "code",
   "execution_count": 36,
   "id": "5fadf767",
   "metadata": {},
   "outputs": [],
   "source": [
    "# Preprocessing the data\n",
    "def preprocess_data(reviews):\n",
    "    reviews = [replace_without_space.sub(\"\", line.lower()) for line in reviews]\n",
    "    reviews = [replace_with_space.sub(\" \", line) for line in reviews]\n",
    "    return reviews"
   ]
  },
  {
   "cell_type": "code",
   "execution_count": 48,
   "id": "ea1b0156",
   "metadata": {},
   "outputs": [],
   "source": [
    "# Getting the tokens from the data\n",
    "def token_example(feature_to_coef):\n",
    "    print(\"Some positive words and their weightage:\")\n",
    "    for best_positive in sorted(\n",
    "        feature_to_coef.items(), \n",
    "        key=lambda x: x[1], \n",
    "        reverse=True)[:10]:\n",
    "        print (best_positive)\n",
    "    \n",
    "    print(\"Some negative words and their weightage\")\n",
    "    for best_negative in sorted(\n",
    "        feature_to_coef.items(), \n",
    "        key=lambda x: x[1])[:10]:\n",
    "        print (best_negative)\n",
    "\n",
    "# Controlling the fitting parameters        \n",
    "def Regularization_parameter(X_train, y_train, y_val, X_val):\n",
    "    k = 0\n",
    "    for c in [0.01, 0.05, 0.25, 0.5, 1]:\n",
    "        lr = LogisticRegression(C=c)\n",
    "        lr.fit(X_train, y_train)\n",
    "        print (\"Accuracy for C=%s: %s\"% (c, accuracy_score(y_val, lr.predict(X_val))))\n",
    "        if(k < accuracy_score(y_val, lr.predict(X_val))):\n",
    "            k = accuracy_score(y_val, lr.predict(X_val))\n",
    "\n",
    "    return k\n"
   ]
  },
  {
   "cell_type": "code",
   "execution_count": 38,
   "id": "813a34ff",
   "metadata": {},
   "outputs": [],
   "source": [
    "# Testing a user defined review\n",
    "def test_new_review(final_model,ngram_vec):\n",
    "    prediction = final_model.predict(ngram_vec.transform([input(\"Analyze Your Own Review:\")]))[0]\n",
    "    if(prediction == 0):\n",
    "        print(\"That's a Negative Review!\")\n",
    "    else:\n",
    "        print(\"That's a Positive Review!\")\n",
    "    while True:\n",
    "        a = input(\"Enter yes/no to continue :\")\n",
    "        if a.lower() == \"yes\":\n",
    "                test_new_review(final_model,ngram_vec)\n",
    "                continue\n",
    "        elif a.lower() == \"no\":\n",
    "            \n",
    "            sys.exit()"
   ]
  },
  {
   "cell_type": "code",
   "execution_count": 49,
   "id": "2982fa03",
   "metadata": {},
   "outputs": [
    {
     "name": "stdout",
     "output_type": "stream",
     "text": [
      "Accuracy for C=0.01: 0.88768\n",
      "Accuracy for C=0.05: 0.89328\n"
     ]
    },
    {
     "name": "stderr",
     "output_type": "stream",
     "text": [
      "E:\\anaconda3\\lib\\site-packages\\sklearn\\linear_model\\_logistic.py:763: ConvergenceWarning: lbfgs failed to converge (status=1):\n",
      "STOP: TOTAL NO. of ITERATIONS REACHED LIMIT.\n",
      "\n",
      "Increase the number of iterations (max_iter) or scale the data as shown in:\n",
      "    https://scikit-learn.org/stable/modules/preprocessing.html\n",
      "Please also refer to the documentation for alternative solver options:\n",
      "    https://scikit-learn.org/stable/modules/linear_model.html#logistic-regression\n",
      "  n_iter_i = _check_optimize_result(\n"
     ]
    },
    {
     "name": "stdout",
     "output_type": "stream",
     "text": [
      "Accuracy for C=0.25: 0.89648\n"
     ]
    },
    {
     "name": "stderr",
     "output_type": "stream",
     "text": [
      "E:\\anaconda3\\lib\\site-packages\\sklearn\\linear_model\\_logistic.py:763: ConvergenceWarning: lbfgs failed to converge (status=1):\n",
      "STOP: TOTAL NO. of ITERATIONS REACHED LIMIT.\n",
      "\n",
      "Increase the number of iterations (max_iter) or scale the data as shown in:\n",
      "    https://scikit-learn.org/stable/modules/preprocessing.html\n",
      "Please also refer to the documentation for alternative solver options:\n",
      "    https://scikit-learn.org/stable/modules/linear_model.html#logistic-regression\n",
      "  n_iter_i = _check_optimize_result(\n"
     ]
    },
    {
     "name": "stdout",
     "output_type": "stream",
     "text": [
      "Accuracy for C=0.5: 0.89648\n"
     ]
    },
    {
     "name": "stderr",
     "output_type": "stream",
     "text": [
      "E:\\anaconda3\\lib\\site-packages\\sklearn\\linear_model\\_logistic.py:763: ConvergenceWarning: lbfgs failed to converge (status=1):\n",
      "STOP: TOTAL NO. of ITERATIONS REACHED LIMIT.\n",
      "\n",
      "Increase the number of iterations (max_iter) or scale the data as shown in:\n",
      "    https://scikit-learn.org/stable/modules/preprocessing.html\n",
      "Please also refer to the documentation for alternative solver options:\n",
      "    https://scikit-learn.org/stable/modules/linear_model.html#logistic-regression\n",
      "  n_iter_i = _check_optimize_result(\n"
     ]
    },
    {
     "name": "stdout",
     "output_type": "stream",
     "text": [
      "Accuracy for C=1: 0.89488\n"
     ]
    },
    {
     "name": "stderr",
     "output_type": "stream",
     "text": [
      "E:\\anaconda3\\lib\\site-packages\\sklearn\\linear_model\\_logistic.py:763: ConvergenceWarning: lbfgs failed to converge (status=1):\n",
      "STOP: TOTAL NO. of ITERATIONS REACHED LIMIT.\n",
      "\n",
      "Increase the number of iterations (max_iter) or scale the data as shown in:\n",
      "    https://scikit-learn.org/stable/modules/preprocessing.html\n",
      "Please also refer to the documentation for alternative solver options:\n",
      "    https://scikit-learn.org/stable/modules/linear_model.html#logistic-regression\n",
      "  n_iter_i = _check_optimize_result(\n"
     ]
    },
    {
     "name": "stdout",
     "output_type": "stream",
     "text": [
      "Final Accuracy from Logistic Regression: 0.89752\n",
      "Some positive words and their weightage:\n",
      "('excellent', 1.3918170453357557)\n",
      "('perfect', 1.1830617928326848)\n",
      "('great', 0.9993796930207764)\n",
      "('enjoyable', 0.9518569886185224)\n",
      "('wonderful', 0.9477835745570555)\n",
      "('superb', 0.9190540368359003)\n",
      "('amazing', 0.9065676472216541)\n",
      "('incredible', 0.7607866547673976)\n",
      "('today', 0.7580733864020609)\n",
      "('better than', 0.7488260610618654)\n",
      "Some negative words and their weightage\n",
      "('worst', -1.6220593093281834)\n",
      "('awful', -1.547692622219319)\n",
      "('boring', -1.4243187437967069)\n",
      "('waste', -1.2891411960414354)\n",
      "('terrible', -1.2130818194169832)\n",
      "('disappointment', -1.1880826226085492)\n",
      "('poor', -1.1797558782140456)\n",
      "('bad', -1.1547811967619852)\n",
      "('poorly', -1.148395030662506)\n",
      "('dull', -1.1309863204618695)\n",
      "Analyze Your Own Review:loved it\n",
      "That's a Positive Review!\n",
      "Enter yes/no to continue :no\n",
      "Task Done!\n"
     ]
    }
   ],
   "source": [
    "def main():\n",
    "    \n",
    "#   Loading the data from text files\n",
    "    reviews_train,reviews_test = load_data()\n",
    "\n",
    "#   preprocessing the obtained data\n",
    "    reviews_train_clean = preprocess_data(reviews_train)\n",
    "    reviews_test_clean = preprocess_data(reviews_test)\n",
    "    \n",
    "#   Initializing the N-gram model\n",
    "    ngram_vec = CountVectorizer(binary=True, ngram_range=(1, 2), stop_words = {'english'})\n",
    "    ngram_vec.fit(reviews_train_clean) \n",
    "    X = ngram_vec.transform(reviews_train_clean) \n",
    "    X_test = ngram_vec.transform(reviews_test_clean)\n",
    "    target = [1 if i < 12500 else 0 for i in range(25000)]\n",
    "\n",
    "#   Training and splitting the data\n",
    "    X_train, X_val, y_train, y_val = train_test_split(X, target, train_size = 0.75)\n",
    "\n",
    "#   find the best c value using the regularization parameter\n",
    "    prime_c_value = Regularization_parameter(X_train, y_train, y_val, X_val)\n",
    "\n",
    "#   build the model using Logistic Regression\n",
    "    final_model = LogisticRegression(C=prime_c_value)\n",
    "    final_model.fit(X, target)\n",
    "    print (\"Final Accuracy from Logistic Regression: %s\"% accuracy_score(target, final_model.predict(X_test)))\n",
    " \n",
    "    feature_to_coef = {\n",
    "    word: coef for word, coef in zip(\n",
    "        ngram_vec.get_feature_names(), final_model.coef_[0]\n",
    "    )\n",
    "    }\n",
    "    \n",
    "    token_example(feature_to_coef) \n",
    "\n",
    "    while(True):\n",
    "        test_new_review(final_model,ngram_vec)\n",
    "\n",
    "if __name__ == '__main__':\n",
    "    try:\n",
    "        main()\n",
    "    except:\n",
    "        print(\"Task Done!\")"
   ]
  }
 ],
 "metadata": {
  "kernelspec": {
   "display_name": "Python 3.10.5 64-bit (windows store)",
   "language": "python",
   "name": "python3"
  },
  "language_info": {
   "codemirror_mode": {
    "name": "ipython",
    "version": 3
   },
   "file_extension": ".py",
   "mimetype": "text/x-python",
   "name": "python",
   "nbconvert_exporter": "python",
   "pygments_lexer": "ipython3",
   "version": "3.10.5"
  },
  "vscode": {
   "interpreter": {
    "hash": "22033dd9bd24a09a1416818e074287089440ae7cb4945531fee3ab58609bb9ea"
   }
  }
 },
 "nbformat": 4,
 "nbformat_minor": 5
}
